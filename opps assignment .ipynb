{
 "cells": [
  {
   "cell_type": "code",
   "execution_count": 2,
   "id": "13bf155b-dcb3-4f80-8f5d-7337f73f1a94",
   "metadata": {},
   "outputs": [
    {
     "name": "stdout",
     "output_type": "stream",
     "text": [
      "Starting the Red black tata.\n",
      "Stopping the Red black tata.\n"
     ]
    }
   ],
   "source": [
    "# What is Abstraction in OOps? Explain with an example.\n",
    "class Car:\n",
    "    def __init__(self, color, model, brand):\n",
    "        self.color = color\n",
    "        self.model = model\n",
    "        self.brand = brand\n",
    "        self.is_running = False\n",
    "\n",
    "    def start(self):\n",
    "        if not self.is_running:\n",
    "            print(f\"Starting the {self.color} {self.model} {self.brand}.\")\n",
    "            self.is_running = True\n",
    "        else:\n",
    "            print(\"The car is already running.\")\n",
    "\n",
    "    def stop(self):\n",
    "        if self.is_running:\n",
    "            print(f\"Stopping the {self.color} {self.model} {self.brand}.\")\n",
    "            self.is_running = False\n",
    "        else:\n",
    "            print(\"The car is already stopped.\")\n",
    "\n",
    "# Using the Car class\n",
    "my_car = Car(\"Red\", \"black\", \"tata\")\n",
    "my_car.start()\n",
    "my_car.stop()\n"
   ]
  },
  {
   "cell_type": "code",
   "execution_count": 3,
   "id": "76a82ac6-a16b-4a87-bd89-2be35a40712a",
   "metadata": {},
   "outputs": [
    {
     "name": "stdout",
     "output_type": "stream",
     "text": [
      "Student: Alice, Age: 20, Student ID: S12345\n"
     ]
    }
   ],
   "source": [
    "# Differentiate between Abstraction and Encapsulation. Explain with an example.\n",
    "# Abstraction:\n",
    "\n",
    "#Abstraction focuses on hiding the complex implementation details and showing only the essential features of an object.\n",
    "#It allows you to work at a higher level of abstraction without worrying about the lower-level details.\n",
    "#Abstraction is achieved through abstract classes and interfaces in OOP.\n",
    "\n",
    "\n",
    "# Encapsulation:\n",
    "#Definition: Encapsulation is the bundling of data (attributes) and methods (functions) that operate on that data into a single unit (class).\n",
    "#Focus: It emphasizes “how” data should be accessed and manipulated.\n",
    "#Purpose: Encapsulation provides data protection by restricting direct access to internal details.\n",
    "#Example: Let’s create a simple Java class called Geek to demonstrate encapsulation\n",
    "\n",
    "# Abstraction: Define an abstract class\n",
    "from abc import ABC, abstractmethod\n",
    "\n",
    "class Person(ABC):\n",
    "    def __init__(self, name, age):\n",
    "        self.name = name\n",
    "        self.age = age\n",
    "\n",
    "    @abstractmethod\n",
    "    def display_info(self):\n",
    "        pass\n",
    "\n",
    "# Encapsulation: Implement a concrete class\n",
    "class Student(Person):\n",
    "    def __init__(self, name, age, student_id):\n",
    "        super().__init__(name, age)\n",
    "        self.student_id = student_id\n",
    "\n",
    "    def display_info(self):\n",
    "        print(f\"Student: {self.name}, Age: {self.age}, Student ID: {self.student_id}\")\n",
    "\n",
    "# Using the Student class\n",
    "student1 = Student(\"Alice\", 20, \"S12345\")\n",
    "student1.display_info()\n"
   ]
  },
  {
   "cell_type": "code",
   "execution_count": 4,
   "id": "23bd12a2-b9b4-40c0-94a9-1dc4c7c4b5de",
   "metadata": {},
   "outputs": [
    {
     "name": "stdout",
     "output_type": "stream",
     "text": [
      "Area of square: 25\n",
      "Area of circle: 28.259999999999998\n"
     ]
    }
   ],
   "source": [
    "# What is abc module in python? Why is it used?\n",
    "\n",
    "###The abc module in Python stands for Abstract Base Classes. It provides a way to define abstract base classes in Python. Abstract base classes are classes that are designed to be subclassed but not instantiated themselves. They define a common interface for a set of subclasses###\n",
    "\n",
    "from abc import ABC, abstractmethod\n",
    "\n",
    "class Shape(ABC):\n",
    "    @abstractmethod\n",
    "    def area(self):\n",
    "        pass\n",
    "\n",
    "class Square(Shape):\n",
    "    def __init__(self, side):\n",
    "        self.side = side\n",
    "\n",
    "    def area(self):\n",
    "        return self.side * self.side\n",
    "\n",
    "class Circle(Shape):\n",
    "    def __init__(self, radius):\n",
    "        self.radius = radius\n",
    "\n",
    "    def area(self):\n",
    "        return 3.14 * self.radius * self.radius\n",
    "\n",
    "# Using the classes\n",
    "# shape = Shape()  # This will raise an error, as Shape is an abstract class and cannot be instantiated directly\n",
    "\n",
    "square = Square(5)\n",
    "print(\"Area of square:\", square.area())\n",
    "\n",
    "circle = Circle(3)\n",
    "print(\"Area of circle:\", circle.area())\n"
   ]
  },
  {
   "cell_type": "code",
   "execution_count": 5,
   "id": "d646737d-fbd1-4307-ba53-f6bbab3d68d2",
   "metadata": {},
   "outputs": [
    {
     "name": "stdout",
     "output_type": "stream",
     "text": [
      "Deposited 1000. New balance is 1000.\n",
      "Withdrew 500. New balance is 500.\n",
      "Current balance: 500\n"
     ]
    }
   ],
   "source": [
    "# How can we achieve data abstraction?\n",
    "# Data abstraction in programming refers to the concept of hiding the implementation details of data and only showing the necessary features or interface to the outside wor\n",
    "\n",
    "class BankAccount:\n",
    "    def __init__(self, account_number, balance=0):\n",
    "        self.account_number = account_number\n",
    "        self.balance = balance\n",
    "\n",
    "    def deposit(self, amount):\n",
    "        if amount > 0:\n",
    "            self.balance += amount\n",
    "            print(f\"Deposited {amount}. New balance is {self.balance}.\")\n",
    "        else:\n",
    "            print(\"Invalid amount. Deposit failed.\")\n",
    "\n",
    "    def withdraw(self, amount):\n",
    "        if 0 < amount <= self.balance:\n",
    "            self.balance -= amount\n",
    "            print(f\"Withdrew {amount}. New balance is {self.balance}.\")\n",
    "        else:\n",
    "            print(\"Insufficient funds. Withdrawal failed.\")\n",
    "\n",
    "    def get_balance(self):\n",
    "        return self.balance\n",
    "\n",
    "# Using the BankAccount class\n",
    "account = BankAccount(\"12345\")\n",
    "account.deposit(1000)\n",
    "account.withdraw(500)\n",
    "print(\"Current balance:\", account.get_balance())\n"
   ]
  },
  {
   "cell_type": "code",
   "execution_count": 6,
   "id": "bdb80c69-32a2-4322-b5a5-a207a2be3f91",
   "metadata": {},
   "outputs": [
    {
     "name": "stdout",
     "output_type": "stream",
     "text": [
      "Can't instantiate abstract class Shape with abstract method area\n"
     ]
    }
   ],
   "source": [
    "#Can we create an instance of an abstract class? Explain your answer. \n",
    "###No, we cannot create an instance of an abstract class in Python. Abstract classes are meant to be subclassed and provide a blueprint for other classes. They contain one or more abstract methods, which are declared but not implemented in the abstract class itself.###\n",
    "\n",
    "\n",
    "from abc import ABC, abstractmethod\n",
    "\n",
    "class Shape(ABC):\n",
    "    @abstractmethod\n",
    "    def area(self):\n",
    "        pass\n",
    "\n",
    "# Attempting to create an instance of the abstract class Shape\n",
    "try:\n",
    "    shape = Shape()\n",
    "except TypeError as e:\n",
    "    print(e)\n"
   ]
  },
  {
   "cell_type": "code",
   "execution_count": null,
   "id": "e9571d5c-598d-4bcc-a42b-8afb390562c0",
   "metadata": {},
   "outputs": [],
   "source": []
  }
 ],
 "metadata": {
  "kernelspec": {
   "display_name": "Python 3 (ipykernel)",
   "language": "python",
   "name": "python3"
  },
  "language_info": {
   "codemirror_mode": {
    "name": "ipython",
    "version": 3
   },
   "file_extension": ".py",
   "mimetype": "text/x-python",
   "name": "python",
   "nbconvert_exporter": "python",
   "pygments_lexer": "ipython3",
   "version": "3.10.8"
  }
 },
 "nbformat": 4,
 "nbformat_minor": 5
}
