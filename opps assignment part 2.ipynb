{
 "cells": [
  {
   "cell_type": "code",
   "execution_count": 1,
   "id": "60bb70ff-223b-44dd-8620-6e1e39be9ab0",
   "metadata": {},
   "outputs": [
    {
     "name": "stdout",
     "output_type": "stream",
     "text": [
      "Vehicle: Car\n",
      "Max Speed: 200\n",
      "Average Speed: 50\n"
     ]
    }
   ],
   "source": [
    "#Create a vehicle class with an init method having instance variables as name_of_vehicle, max_speedand average_of_vehicle.\n",
    "\n",
    "class Vehicle:\n",
    "    def __init__(self, name_of_vehicle, max_speed, average_of_vehicle):\n",
    "        self.name_of_vehicle = name_of_vehicle\n",
    "        self.max_speed = max_speed\n",
    "        self.average_of_vehicle = average_of_vehicle\n",
    "\n",
    "# Example usage\n",
    "vehicle1 = Vehicle(\"Car\", 200, 50)\n",
    "print(\"Vehicle:\", vehicle1.name_of_vehicle)\n",
    "print(\"Max Speed:\", vehicle1.max_speed)\n",
    "print(\"Average Speed:\", vehicle1.average_of_vehicle)\n"
   ]
  },
  {
   "cell_type": "code",
   "execution_count": 2,
   "id": "14da1f06-53e6-4121-a9c9-210f4101ef27",
   "metadata": {},
   "outputs": [
    {
     "name": "stdout",
     "output_type": "stream",
     "text": [
      "Vehicle: Car\n",
      "Max Speed: 200\n",
      "Average Speed: 50\n",
      "The Car has a seating capacity of 5.\n"
     ]
    }
   ],
   "source": [
    "#Create a child class car from the vehicle class created in Que 1, which will inherit the vehicle class.Create a method named seating_capacity which takes capacity as an argument and returns the name ofthe vehicle and its seating capacity.\n",
    "\n",
    "class Car(Vehicle):\n",
    "    def seating_capacity(self, capacity):\n",
    "        return f\"The {self.name_of_vehicle} has a seating capacity of {capacity}.\"\n",
    "\n",
    "# Example usage\n",
    "car1 = Car(\"Car\", 200, 50)\n",
    "print(\"Vehicle:\", car1.name_of_vehicle)\n",
    "print(\"Max Speed:\", car1.max_speed)\n",
    "print(\"Average Speed:\", car1.average_of_vehicle)\n",
    "print(car1.seating_capacity(5))\n"
   ]
  },
  {
   "cell_type": "code",
   "execution_count": 3,
   "id": "c3a2921d-5d9b-4a1a-b3b6-e822bc4f59b4",
   "metadata": {},
   "outputs": [
    {
     "name": "stdout",
     "output_type": "stream",
     "text": [
      "Engine started\n",
      "Engine stopped\n",
      "Electric vehicle charging\n",
      "Hybrid car driving\n"
     ]
    }
   ],
   "source": [
    "#What is multiple inheritance? Write a python code to demonstrate multiple inheritance.\n",
    "\n",
    "#Multiple inheritance is a feature in object-oriented programming where a class can inherit attributes and methods from more than one parent class. This allows a child class to inherit behavior from multiple parent classes.\n",
    "\n",
    "\n",
    "class Engine:\n",
    "    def start(self):\n",
    "        print(\"Engine started\")\n",
    "\n",
    "    def stop(self):\n",
    "        print(\"Engine stopped\")\n",
    "\n",
    "class Electric:\n",
    "    def charge(self):\n",
    "        print(\"Electric vehicle charging\")\n",
    "\n",
    "class HybridCar(Engine, Electric):\n",
    "    def drive(self):\n",
    "        print(\"Hybrid car driving\")\n",
    "\n",
    "# Creating an instance of HybridCar\n",
    "my_car = HybridCar()\n",
    "\n",
    "# Accessing methods from Engine class\n",
    "my_car.start()\n",
    "my_car.stop()\n",
    "\n",
    "# Accessing methods from Electric class\n",
    "my_car.charge()\n",
    "\n",
    "# Accessing method from HybridCar class\n",
    "my_car.drive()\n"
   ]
  },
  {
   "cell_type": "code",
   "execution_count": 4,
   "id": "eb8a852e-6f00-4c20-ab96-a4dab9632068",
   "metadata": {},
   "outputs": [
    {
     "name": "stdout",
     "output_type": "stream",
     "text": [
      "Age: 25\n",
      "New age: 30\n",
      "Age cannot be negative.\n"
     ]
    }
   ],
   "source": [
    "#What are getter and setter in python? Create a class and create a getter and a setter method in thisclass.\n",
    "\n",
    "#In Python, getter and setter methods are used to access and modify the attributes of a class in a controlled manner. Getter methods are used to access the value of an attribute, while setter methods are used to modify the value of an attribute, usually with some validation or additional logic.\n",
    "\n",
    "class Person:\n",
    "    def __init__(self, age):\n",
    "        self._age = age  # Note: using _ before attribute name to indicate it's private\n",
    "\n",
    "    def get_age(self):\n",
    "        return self._age\n",
    "\n",
    "    def set_age(self, age):\n",
    "        if age >= 0:\n",
    "            self._age = age\n",
    "        else:\n",
    "            print(\"Age cannot be negative.\")\n",
    "\n",
    "# Create an instance of Person\n",
    "person1 = Person(25)\n",
    "\n",
    "# Get age using the getter method\n",
    "print(\"Age:\", person1.get_age())\n",
    "\n",
    "# Set age using the setter method\n",
    "person1.set_age(30)\n",
    "print(\"New age:\", person1.get_age())\n",
    "\n",
    "# Try to set age to a negative value\n",
    "person1.set_age(-5)\n"
   ]
  },
  {
   "cell_type": "code",
   "execution_count": 5,
   "id": "cf4ea8c8-e770-4d59-b055-ff1488d0a351",
   "metadata": {},
   "outputs": [
    {
     "name": "stdout",
     "output_type": "stream",
     "text": [
      "Dog barks\n",
      "Cat meows\n"
     ]
    }
   ],
   "source": [
    "#What is method overriding in python? Write a python code to demonstrate method overriding.\n",
    "\n",
    "#Method overriding in Python occurs when a subclass defines a method that is already defined in its superclass. The method in the subclass overrides the method in the superclass, providing a new implementation.\n",
    "\n",
    "class Animal:\n",
    "    def speak(self):\n",
    "        print(\"Animal speaks\")\n",
    "\n",
    "class Dog(Animal):\n",
    "    def speak(self):\n",
    "        print(\"Dog barks\")\n",
    "\n",
    "class Cat(Animal):\n",
    "    def speak(self):\n",
    "        print(\"Cat meows\")\n",
    "\n",
    "# Create instances of Dog and Cat\n",
    "dog = Dog()\n",
    "cat = Cat()\n",
    "\n",
    "# Call the speak method for each instance\n",
    "dog.speak()  # Output: Dog barks\n",
    "cat.speak()  # Output: Cat meows\n"
   ]
  },
  {
   "cell_type": "code",
   "execution_count": null,
   "id": "27f2e38f-2814-401b-a99f-4b6131303bd3",
   "metadata": {},
   "outputs": [],
   "source": []
  }
 ],
 "metadata": {
  "kernelspec": {
   "display_name": "Python 3 (ipykernel)",
   "language": "python",
   "name": "python3"
  },
  "language_info": {
   "codemirror_mode": {
    "name": "ipython",
    "version": 3
   },
   "file_extension": ".py",
   "mimetype": "text/x-python",
   "name": "python",
   "nbconvert_exporter": "python",
   "pygments_lexer": "ipython3",
   "version": "3.10.8"
  }
 },
 "nbformat": 4,
 "nbformat_minor": 5
}
